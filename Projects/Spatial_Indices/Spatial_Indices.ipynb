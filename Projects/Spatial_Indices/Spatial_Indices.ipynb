{
 "cells": [
  {
   "cell_type": "markdown",
   "metadata": {
    "heading_collapsed": true
   },
   "source": [
    "# Setting Up Google Earth Engine API\n",
    "1) __Clone your environment:__\n",
    "\n",
    "To play it safe, you can clone your active environment.  We'll need to install some packages, and doing this incorrectly could cause issues with other projects. \n",
    "- In ArcGIS Pro, go to _Project_\n",
    "- On the left hand menu, go to _Package Manager_\n",
    "- In the _Package Manager_ window, select _active environments_\n",
    "- In the _active environments_ window, select the clone package button\n",
    "- Save your new environmrnt\n",
    "- If you run into errors during the cloning process, you can try opening a blank new project, and follow the instructions again.  You may have to restart your computer after this. \n",
    "\n",
    "2) __Install Packages for Google Earth Engine API:__\n",
    "\n",
    "- Go to your console terminal and open a new python window\n",
    "- Ensure you are in the correct directory (the new one you just created)\n",
    "- Run: conda install -c conda-forge earthengine-api\n",
    "\n",
    "This should install the earth engine api in your new environment. "
   ]
  },
  {
   "cell_type": "markdown",
   "metadata": {},
   "source": [
    "# GEE Imagery and Mapping"
   ]
  },
  {
   "cell_type": "markdown",
   "metadata": {},
   "source": [
    "1) Import packages\n",
    "\n",
    "_Include_ os.environ[\"CRYPTOGRAPHY_OPENSSL_NO_LEGACY\"] =\"yes\" _before importing geemap to avoid \"Open SSL 3.0 Legacy\" error_"
   ]
  },
  {
   "cell_type": "code",
   "execution_count": 1,
   "metadata": {
    "scrolled": true
   },
   "outputs": [],
   "source": [
    "import os\n",
    "import arcpy\n",
    "# This is to resolve an error that occured during import \"SSL 3.0 Legacy\"\n",
    "os.environ[\"CRYPTOGRAPHY_OPENSSL_NO_LEGACY\"] =\"yes\" \n",
    "import os.path\n",
    "import google\n",
    "import geemap #Custom library to map earth engine data\n",
    "import ee\n",
    "import pandas as pd\n",
    "import matplotlib.pyplot as plt\n",
    "import numpy as np\n",
    "import folium\n",
    "import pprint\n",
    "import branca.colormap as cm\n",
    "import datetime\n",
    "import palettable as cp\n",
    "import traceback\n",
    "from IPython.display import HTML\n",
    "from IPython.display import Image\n",
    "from arcgis.gis import GIS\n",
    "from google.auth.transport.requests import Request\n",
    "from google.oauth2.credentials import Credentials\n",
    "from google_auth_oauthlib.flow import InstalledAppFlow\n",
    "from googleapiclient.discovery import build\n",
    "from googleapiclient.errors import HttpError\n",
    "from palettable.matplotlib import Viridis_4\n"
   ]
  },
  {
   "cell_type": "markdown",
   "metadata": {},
   "source": [
    "We're using Google Earth Engine to access sattelite imagery from the Sentinel-2 sattellites, so we'll need to establish a connection by authorizing client access to Google Earth Engine.  Initially, this prompts a google acount login, which is saved as a json token for authenticating subsequent session.\n",
    "\n",
    "ee.Authenticate prompts authorization access to Earth Engine via OAuth2.  You can read more about OAuth2 to access google APIs <a href=\"https://developers.google.com/identity/protocols/oauth2\">here</a>"
   ]
  },
  {
   "cell_type": "code",
   "execution_count": 2,
   "metadata": {},
   "outputs": [
    {
     "data": {
      "text/plain": [
       "True"
      ]
     },
     "execution_count": 2,
     "metadata": {},
     "output_type": "execute_result"
    }
   ],
   "source": [
    "ee.Authenticate()"
   ]
  },
  {
   "cell_type": "markdown",
   "metadata": {},
   "source": [
    "Connect to an existing Google Cloud Project, this requires you to set one up, which you can read more about <a href=\"https://developers.google.com/earth-engine/cloud/earthengine_cloud_project_setup\">here</a>"
   ]
  },
  {
   "cell_type": "code",
   "execution_count": 3,
   "metadata": {},
   "outputs": [],
   "source": [
    "ee.Initialize(project = 'byargeon-algae-2024')"
   ]
  },
  {
   "cell_type": "markdown",
   "metadata": {},
   "source": [
    "Specify all input variables"
   ]
  },
  {
   "cell_type": "code",
   "execution_count": 4,
   "metadata": {},
   "outputs": [],
   "source": [
    "START_DATE = ee.Date('2022-01-01') # Initial date for our search range\n",
    "END_DATE = ee.Date('2024-01-01') #Final Date for our search range\n",
    "CLOUD_FILTER = 60 \n",
    "CLD_PRB_THRESH = 50 #Integer cloud probability \n",
    "\n",
    "# Define AOI Polygon that includes the highland lake region of Central Texas\n",
    "AOI = ee.Geometry.Polygon(\n",
    "        [[[-98.58221017603384, 30.94588417271635],\n",
    "          [-98.58221017603384, 30.134509757818982],\n",
    "          [-97.56597482447134, 30.134509757818982],\n",
    "          [-97.56597482447134, 30.94588417271635]]])"
   ]
  },
  {
   "cell_type": "markdown",
   "metadata": {},
   "source": [
    "Collect Sentinel-2 imagery, filter by the AOI, the provided date range, and images with > 60% cloud cover.  This produces a collection of images, so take the median of the collection, resulting in a single image. \n",
    "\n",
    "The Cloud Filter is using the \"Cloudy Pixel Percentage\" band to filter out cloudy pixels"
   ]
  },
  {
   "cell_type": "code",
   "execution_count": 5,
   "metadata": {},
   "outputs": [
    {
     "name": "stderr",
     "output_type": "stream",
     "text": [
      "C:\\Users\\travisbyargeon\\AppData\\Local\\ESRI\\conda\\envs\\arcgispro-py3-ee\\lib\\site-packages\\ee\\deprecation.py:202: DeprecationWarning: \n",
      "\n",
      "Attention required for COPERNICUS/S2_SR! You are using a deprecated asset.\n",
      "To ensure continued functionality, please update it.\n",
      "Learn more: https://developers.google.com/earth-engine/datasets/catalog/COPERNICUS_S2_SR\n",
      "\n",
      "  warnings.warn(warning, category=DeprecationWarning)\n"
     ]
    }
   ],
   "source": [
    "S2 = ee.Image(ee.ImageCollection('COPERNICUS/S2_SR').filterBounds(AOI).filterDate(START_DATE, END_DATE).filter(ee.Filter.lte('CLOUDY_PIXEL_PERCENTAGE', CLOUD_FILTER)).median())"
   ]
  },
  {
   "cell_type": "markdown",
   "metadata": {},
   "source": [
    "Create a map to display our indices, center the map near Lake Travis in Travis County, TX.  Set the zoom level (higher = more zoom)"
   ]
  },
  {
   "cell_type": "code",
   "execution_count": 6,
   "metadata": {},
   "outputs": [],
   "source": [
    "Map = geemap.Map(center=[30.3825, -97.915], zoom=11)"
   ]
  },
  {
   "cell_type": "markdown",
   "metadata": {},
   "source": [
    "Calculate the spectral indices for the collected S2 Image.  We do this by using a the ee funtion image.normalizedDifference which calculated the normalized difference between two bands.  This calculation renders the following imagery:\n",
    "\n",
    "Normalized Difference Water Index (NDWI) is used to visualize water\n",
    "= (B3 - B11)/(B3 + B11)\n",
    "\n",
    "Normalized Difference Chlorophyll Index (NDWI) is used to visualize chlorophyll\n",
    "= (B5 - B4)/(B5 + B4)\n",
    "\n",
    "Normalized Difference Vegetation Index (NDWI) is used to visualize vegetation\n",
    "= (B8 - B4)/(B8 + B4)"
   ]
  },
  {
   "cell_type": "code",
   "execution_count": 7,
   "metadata": {},
   "outputs": [],
   "source": [
    "ndwi = S2.normalizedDifference(['B3','B11'])\n",
    "ndci = S2.normalizedDifference(['B5','B4'])\n",
    "ndvi = S2.normalizedDifference(['B8','B4'])"
   ]
  },
  {
   "cell_type": "markdown",
   "metadata": {},
   "source": [
    "We can use the NDWI to create a water/land mask for cartographic purposes. I determined the value of 0.01 by trial and error. "
   ]
  },
  {
   "cell_type": "code",
   "execution_count": 8,
   "metadata": {},
   "outputs": [],
   "source": [
    "land_mask = ndwi.gte(0.01)\n",
    "water_mask = ndwi.lte(0.01)\n"
   ]
  },
  {
   "cell_type": "markdown",
   "metadata": {},
   "source": [
    "Apply the masks to our spectral incides for cartographic purposes"
   ]
  },
  {
   "cell_type": "code",
   "execution_count": 9,
   "metadata": {},
   "outputs": [],
   "source": [
    "ndwi_masked = ndwi.updateMask(land_mask)\n",
    "ndci_masked = ndci.updateMask(land_mask)\n",
    "ndvi_masked = ndvi.updateMask(water_mask).updateMask(ndvi.gte(0.09))"
   ]
  },
  {
   "cell_type": "markdown",
   "metadata": {},
   "source": [
    "Specify the visualization paramters for our images"
   ]
  },
  {
   "cell_type": "code",
   "execution_count": 10,
   "metadata": {},
   "outputs": [],
   "source": [
    "rbg_viz = {'bands': ['B4', 'B3', 'B2'], 'min': 0, 'max': 2500, 'gamma': [0.95,1.1,1]}\n",
    "nir_viz = {'bands': ['B8', 'B4', 'B3'], 'min': 0, 'max': 2500, 'gamma': [0.95,1.1,1]}\n",
    "bat_viz = {'bands': ['B4', 'B3', 'B1'], 'min': 0, 'max': 2500, 'gamma': [0.95,1.1,1]}\n",
    "ndwi_viz = {'min': 0.0, 'max': 0.05, 'palette':['00FFFF','0000FF']}\n",
    "ndci_viz = {'min': -0.003, 'max': 0.03, 'palette':['blue','green','yellow']}\n",
    "ndvi_viz = {'min': -0.5, 'max': 0.5, 'palette':['blue','white','green']}"
   ]
  },
  {
   "cell_type": "markdown",
   "metadata": {},
   "source": [
    "Add all layers to our map"
   ]
  },
  {
   "cell_type": "code",
   "execution_count": 11,
   "metadata": {},
   "outputs": [],
   "source": [
    "Map.add_layer(S2, rbg_viz, 'Natural')\n",
    "Map.add_layer(S2, nir_viz, 'Infrared')\n",
    "#Map.add_layer(S2, bat_viz, 'Bathymetric')\n",
    "Map.add_layer(ndwi_masked, ndwi_viz, 'NDWI')\n",
    "Map.add_layer(ndci_masked, ndci_viz, 'NDCI')\n",
    "Map.add_layer(ndvi_masked, ndvi_viz, 'NDVI')"
   ]
  },
  {
   "cell_type": "markdown",
   "metadata": {},
   "source": [
    "Display the Map"
   ]
  },
  {
   "cell_type": "code",
   "execution_count": 12,
   "metadata": {},
   "outputs": [
    {
     "data": {
      "application/vnd.jupyter.widget-view+json": {
       "model_id": "b60cda747e374bd78a7634acd69cf0e2",
       "version_major": 2,
       "version_minor": 0
      },
      "text/plain": [
       "Map(center=[30.3825, -97.915], controls=(WidgetControl(options=['position', 'transparent_bg'], widget=SearchDa…"
      ]
     },
     "metadata": {},
     "output_type": "display_data"
    }
   ],
   "source": [
    "Map"
   ]
  },
  {
   "cell_type": "code",
   "execution_count": null,
   "metadata": {},
   "outputs": [],
   "source": []
  }
 ],
 "metadata": {
  "kernelspec": {
   "display_name": "ArcGISPro",
   "language": "Python",
   "name": "python3"
  },
  "language_info": {
   "file_extension": ".py",
   "name": "python",
   "version": "3"
  }
 },
 "nbformat": 4,
 "nbformat_minor": 2
}
